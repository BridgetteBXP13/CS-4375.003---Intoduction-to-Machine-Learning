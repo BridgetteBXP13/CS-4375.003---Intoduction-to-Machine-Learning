{
 "cells": [
  {
   "cell_type": "markdown",
   "id": "c4b6b295-4945-46b2-a7f5-a467ecb9675a",
   "metadata": {},
   "source": [
    "# ML with skLearn\n",
    "## Overview\n",
    "\n",
    "In this notebook I utilized Python 3 for machine learning. This included pandas for creating/processing the dataframe from the Auto.csv file. Along with seaborn to plot and explore the data. Finally skLearn to train, test, split, and create machine learning models for logistic regression, decision tree, and neural network."
   ]
  },
  {
   "cell_type": "markdown",
   "id": "ec810e40-0518-4465-8678-a5a4d4ffe6a5",
   "metadata": {},
   "source": [
    "### Reading in the Data with pandas"
   ]
  },
  {
   "cell_type": "code",
   "execution_count": 1,
   "id": "db6a9fbf-9733-464f-a8ce-65b040a4340a",
   "metadata": {},
   "outputs": [
    {
     "data": {
      "text/html": [
       "<div>\n",
       "<style scoped>\n",
       "    .dataframe tbody tr th:only-of-type {\n",
       "        vertical-align: middle;\n",
       "    }\n",
       "\n",
       "    .dataframe tbody tr th {\n",
       "        vertical-align: top;\n",
       "    }\n",
       "\n",
       "    .dataframe thead th {\n",
       "        text-align: right;\n",
       "    }\n",
       "</style>\n",
       "<table border=\"1\" class=\"dataframe\">\n",
       "  <thead>\n",
       "    <tr style=\"text-align: right;\">\n",
       "      <th></th>\n",
       "      <th>mpg</th>\n",
       "      <th>cylinders</th>\n",
       "      <th>displacement</th>\n",
       "      <th>horsepower</th>\n",
       "      <th>weight</th>\n",
       "      <th>acceleration</th>\n",
       "      <th>year</th>\n",
       "      <th>origin</th>\n",
       "      <th>name</th>\n",
       "    </tr>\n",
       "  </thead>\n",
       "  <tbody>\n",
       "    <tr>\n",
       "      <th>0</th>\n",
       "      <td>18.0</td>\n",
       "      <td>8</td>\n",
       "      <td>307.0</td>\n",
       "      <td>130</td>\n",
       "      <td>3504</td>\n",
       "      <td>12.0</td>\n",
       "      <td>70.0</td>\n",
       "      <td>1</td>\n",
       "      <td>chevrolet chevelle malibu</td>\n",
       "    </tr>\n",
       "    <tr>\n",
       "      <th>1</th>\n",
       "      <td>15.0</td>\n",
       "      <td>8</td>\n",
       "      <td>350.0</td>\n",
       "      <td>165</td>\n",
       "      <td>3693</td>\n",
       "      <td>11.5</td>\n",
       "      <td>70.0</td>\n",
       "      <td>1</td>\n",
       "      <td>buick skylark 320</td>\n",
       "    </tr>\n",
       "    <tr>\n",
       "      <th>2</th>\n",
       "      <td>18.0</td>\n",
       "      <td>8</td>\n",
       "      <td>318.0</td>\n",
       "      <td>150</td>\n",
       "      <td>3436</td>\n",
       "      <td>11.0</td>\n",
       "      <td>70.0</td>\n",
       "      <td>1</td>\n",
       "      <td>plymouth satellite</td>\n",
       "    </tr>\n",
       "    <tr>\n",
       "      <th>3</th>\n",
       "      <td>16.0</td>\n",
       "      <td>8</td>\n",
       "      <td>304.0</td>\n",
       "      <td>150</td>\n",
       "      <td>3433</td>\n",
       "      <td>12.0</td>\n",
       "      <td>70.0</td>\n",
       "      <td>1</td>\n",
       "      <td>amc rebel sst</td>\n",
       "    </tr>\n",
       "    <tr>\n",
       "      <th>4</th>\n",
       "      <td>17.0</td>\n",
       "      <td>8</td>\n",
       "      <td>302.0</td>\n",
       "      <td>140</td>\n",
       "      <td>3449</td>\n",
       "      <td>NaN</td>\n",
       "      <td>70.0</td>\n",
       "      <td>1</td>\n",
       "      <td>ford torino</td>\n",
       "    </tr>\n",
       "  </tbody>\n",
       "</table>\n",
       "</div>"
      ],
      "text/plain": [
       "    mpg  cylinders  displacement  horsepower  weight  acceleration  year  \\\n",
       "0  18.0          8         307.0         130    3504          12.0  70.0   \n",
       "1  15.0          8         350.0         165    3693          11.5  70.0   \n",
       "2  18.0          8         318.0         150    3436          11.0  70.0   \n",
       "3  16.0          8         304.0         150    3433          12.0  70.0   \n",
       "4  17.0          8         302.0         140    3449           NaN  70.0   \n",
       "\n",
       "   origin                       name  \n",
       "0       1  chevrolet chevelle malibu  \n",
       "1       1          buick skylark 320  \n",
       "2       1         plymouth satellite  \n",
       "3       1              amc rebel sst  \n",
       "4       1                ford torino  "
      ]
     },
     "execution_count": 1,
     "metadata": {},
     "output_type": "execute_result"
    }
   ],
   "source": [
    "# importing pandas\n",
    "import pandas as pd\n",
    "# using pandas to read Auto.csv\n",
    "df = pd.read_csv('Auto.csv')\n",
    "# outputting the first few rows\n",
    "df.head()"
   ]
  },
  {
   "cell_type": "code",
   "execution_count": 2,
   "id": "ae656357-c4b2-4d5b-8772-d597f6fce4da",
   "metadata": {},
   "outputs": [
    {
     "name": "stdout",
     "output_type": "stream",
     "text": [
      "\n",
      "Dimensions of data frame:  (392, 9)\n"
     ]
    }
   ],
   "source": [
    "# outputting the dimensions\n",
    "print(\"\\nDimensions of data frame: \", df.shape)"
   ]
  },
  {
   "cell_type": "markdown",
   "id": "a5115873-c2c5-4b90-9519-c7bcf58b86d5",
   "metadata": {},
   "source": [
    "### Data Exploration & Processing"
   ]
  },
  {
   "cell_type": "markdown",
   "id": "6dde6149-e2aa-42ba-b158-2de09d5b52fe",
   "metadata": {},
   "source": [
    "#### With pandas describe()"
   ]
  },
  {
   "cell_type": "code",
   "execution_count": 3,
   "id": "95d970bb-cc3a-4b4b-8063-876edabd34b0",
   "metadata": {},
   "outputs": [
    {
     "name": "stdout",
     "output_type": "stream",
     "text": [
      "\n",
      "MPG:\n",
      "count    392.000000\n",
      "mean      23.445918\n",
      "std        7.805007\n",
      "min        9.000000\n",
      "25%       17.000000\n",
      "50%       22.750000\n",
      "75%       29.000000\n",
      "max       46.600000\n",
      "Name: mpg, dtype: float64\n",
      "\n",
      "Weight:\n",
      "count     392.000000\n",
      "mean     2977.584184\n",
      "std       849.402560\n",
      "min      1613.000000\n",
      "25%      2225.250000\n",
      "50%      2803.500000\n",
      "75%      3614.750000\n",
      "max      5140.000000\n",
      "Name: weight, dtype: float64\n",
      "\n",
      "Year:\n",
      "count    390.000000\n",
      "mean      76.010256\n",
      "std        3.668093\n",
      "min       70.000000\n",
      "25%       73.000000\n",
      "50%       76.000000\n",
      "75%       79.000000\n",
      "max       82.000000\n",
      "Name: year, dtype: float64\n"
     ]
    }
   ],
   "source": [
    "# using describe() for the mpg, weight, and year columns\n",
    "\n",
    "# For mpg\n",
    "print(\"\\nMPG:\")\n",
    "print(df.mpg.describe())\n",
    "# For mpg the range is 37.6 and the average is 23.45\n",
    "\n",
    "# For weight\n",
    "print(\"\\nWeight:\")\n",
    "print(df.weight.describe())\n",
    "# For weight the range is 3527 and the average is 2977.58\n",
    "\n",
    "# For year\n",
    "print(\"\\nYear:\")\n",
    "print(df.year.describe())\n",
    "# For year the range is 12 and the average is 76.01"
   ]
  },
  {
   "cell_type": "markdown",
   "id": "c002bc2d-5091-4ee5-b35b-12e5afc67b04",
   "metadata": {},
   "source": [
    "#### Data types with Pandas"
   ]
  },
  {
   "cell_type": "code",
   "execution_count": 4,
   "id": "d44686c1-8fab-4007-a185-5e6005b3b78b",
   "metadata": {},
   "outputs": [
    {
     "name": "stdout",
     "output_type": "stream",
     "text": [
      "Types of all columns:\n",
      "mpg             float64\n",
      "cylinders         int64\n",
      "displacement    float64\n",
      "horsepower        int64\n",
      "weight            int64\n",
      "acceleration    float64\n",
      "year            float64\n",
      "origin            int64\n",
      "name             object\n",
      "dtype: object\n",
      "\n",
      "Head of our data frame:\n"
     ]
    },
    {
     "data": {
      "text/html": [
       "<div>\n",
       "<style scoped>\n",
       "    .dataframe tbody tr th:only-of-type {\n",
       "        vertical-align: middle;\n",
       "    }\n",
       "\n",
       "    .dataframe tbody tr th {\n",
       "        vertical-align: top;\n",
       "    }\n",
       "\n",
       "    .dataframe thead th {\n",
       "        text-align: right;\n",
       "    }\n",
       "</style>\n",
       "<table border=\"1\" class=\"dataframe\">\n",
       "  <thead>\n",
       "    <tr style=\"text-align: right;\">\n",
       "      <th></th>\n",
       "      <th>mpg</th>\n",
       "      <th>cylinders</th>\n",
       "      <th>displacement</th>\n",
       "      <th>horsepower</th>\n",
       "      <th>weight</th>\n",
       "      <th>acceleration</th>\n",
       "      <th>year</th>\n",
       "      <th>origin</th>\n",
       "      <th>name</th>\n",
       "    </tr>\n",
       "  </thead>\n",
       "  <tbody>\n",
       "    <tr>\n",
       "      <th>0</th>\n",
       "      <td>18.0</td>\n",
       "      <td>8</td>\n",
       "      <td>307.0</td>\n",
       "      <td>130</td>\n",
       "      <td>3504</td>\n",
       "      <td>12.0</td>\n",
       "      <td>70.0</td>\n",
       "      <td>1</td>\n",
       "      <td>chevrolet chevelle malibu</td>\n",
       "    </tr>\n",
       "    <tr>\n",
       "      <th>1</th>\n",
       "      <td>15.0</td>\n",
       "      <td>8</td>\n",
       "      <td>350.0</td>\n",
       "      <td>165</td>\n",
       "      <td>3693</td>\n",
       "      <td>11.5</td>\n",
       "      <td>70.0</td>\n",
       "      <td>1</td>\n",
       "      <td>buick skylark 320</td>\n",
       "    </tr>\n",
       "    <tr>\n",
       "      <th>2</th>\n",
       "      <td>18.0</td>\n",
       "      <td>8</td>\n",
       "      <td>318.0</td>\n",
       "      <td>150</td>\n",
       "      <td>3436</td>\n",
       "      <td>11.0</td>\n",
       "      <td>70.0</td>\n",
       "      <td>1</td>\n",
       "      <td>plymouth satellite</td>\n",
       "    </tr>\n",
       "    <tr>\n",
       "      <th>3</th>\n",
       "      <td>16.0</td>\n",
       "      <td>8</td>\n",
       "      <td>304.0</td>\n",
       "      <td>150</td>\n",
       "      <td>3433</td>\n",
       "      <td>12.0</td>\n",
       "      <td>70.0</td>\n",
       "      <td>1</td>\n",
       "      <td>amc rebel sst</td>\n",
       "    </tr>\n",
       "    <tr>\n",
       "      <th>4</th>\n",
       "      <td>17.0</td>\n",
       "      <td>8</td>\n",
       "      <td>302.0</td>\n",
       "      <td>140</td>\n",
       "      <td>3449</td>\n",
       "      <td>NaN</td>\n",
       "      <td>70.0</td>\n",
       "      <td>1</td>\n",
       "      <td>ford torino</td>\n",
       "    </tr>\n",
       "  </tbody>\n",
       "</table>\n",
       "</div>"
      ],
      "text/plain": [
       "    mpg  cylinders  displacement  horsepower  weight  acceleration  year  \\\n",
       "0  18.0          8         307.0         130    3504          12.0  70.0   \n",
       "1  15.0          8         350.0         165    3693          11.5  70.0   \n",
       "2  18.0          8         318.0         150    3436          11.0  70.0   \n",
       "3  16.0          8         304.0         150    3433          12.0  70.0   \n",
       "4  17.0          8         302.0         140    3449           NaN  70.0   \n",
       "\n",
       "   origin                       name  \n",
       "0       1  chevrolet chevelle malibu  \n",
       "1       1          buick skylark 320  \n",
       "2       1         plymouth satellite  \n",
       "3       1              amc rebel sst  \n",
       "4       1                ford torino  "
      ]
     },
     "execution_count": 4,
     "metadata": {},
     "output_type": "execute_result"
    }
   ],
   "source": [
    "# Checking the data types of all columns\n",
    "print(\"Types of all columns:\")\n",
    "print(df.dtypes)\n",
    "\n",
    "print(\"\\nHead of our data frame:\")\n",
    "df.head()"
   ]
  },
  {
   "cell_type": "code",
   "execution_count": 5,
   "id": "5f9f905b-2b5d-4f9a-889b-026a1ffe9e06",
   "metadata": {},
   "outputs": [
    {
     "name": "stdout",
     "output_type": "stream",
     "text": [
      "\n",
      "\n",
      "Types of all columns in df after change:\n",
      "mpg              float64\n",
      "cylinders           int8\n",
      "displacement     float64\n",
      "horsepower         int64\n",
      "weight             int64\n",
      "acceleration     float64\n",
      "year             float64\n",
      "origin          category\n",
      "name              object\n",
      "dtype: object\n",
      "\n",
      "Head of our data frame after change:\n"
     ]
    },
    {
     "data": {
      "text/html": [
       "<div>\n",
       "<style scoped>\n",
       "    .dataframe tbody tr th:only-of-type {\n",
       "        vertical-align: middle;\n",
       "    }\n",
       "\n",
       "    .dataframe tbody tr th {\n",
       "        vertical-align: top;\n",
       "    }\n",
       "\n",
       "    .dataframe thead th {\n",
       "        text-align: right;\n",
       "    }\n",
       "</style>\n",
       "<table border=\"1\" class=\"dataframe\">\n",
       "  <thead>\n",
       "    <tr style=\"text-align: right;\">\n",
       "      <th></th>\n",
       "      <th>mpg</th>\n",
       "      <th>cylinders</th>\n",
       "      <th>displacement</th>\n",
       "      <th>horsepower</th>\n",
       "      <th>weight</th>\n",
       "      <th>acceleration</th>\n",
       "      <th>year</th>\n",
       "      <th>origin</th>\n",
       "      <th>name</th>\n",
       "    </tr>\n",
       "  </thead>\n",
       "  <tbody>\n",
       "    <tr>\n",
       "      <th>0</th>\n",
       "      <td>18.0</td>\n",
       "      <td>4</td>\n",
       "      <td>307.0</td>\n",
       "      <td>130</td>\n",
       "      <td>3504</td>\n",
       "      <td>12.0</td>\n",
       "      <td>70.0</td>\n",
       "      <td>1</td>\n",
       "      <td>chevrolet chevelle malibu</td>\n",
       "    </tr>\n",
       "    <tr>\n",
       "      <th>1</th>\n",
       "      <td>15.0</td>\n",
       "      <td>4</td>\n",
       "      <td>350.0</td>\n",
       "      <td>165</td>\n",
       "      <td>3693</td>\n",
       "      <td>11.5</td>\n",
       "      <td>70.0</td>\n",
       "      <td>1</td>\n",
       "      <td>buick skylark 320</td>\n",
       "    </tr>\n",
       "    <tr>\n",
       "      <th>2</th>\n",
       "      <td>18.0</td>\n",
       "      <td>4</td>\n",
       "      <td>318.0</td>\n",
       "      <td>150</td>\n",
       "      <td>3436</td>\n",
       "      <td>11.0</td>\n",
       "      <td>70.0</td>\n",
       "      <td>1</td>\n",
       "      <td>plymouth satellite</td>\n",
       "    </tr>\n",
       "    <tr>\n",
       "      <th>3</th>\n",
       "      <td>16.0</td>\n",
       "      <td>4</td>\n",
       "      <td>304.0</td>\n",
       "      <td>150</td>\n",
       "      <td>3433</td>\n",
       "      <td>12.0</td>\n",
       "      <td>70.0</td>\n",
       "      <td>1</td>\n",
       "      <td>amc rebel sst</td>\n",
       "    </tr>\n",
       "    <tr>\n",
       "      <th>4</th>\n",
       "      <td>17.0</td>\n",
       "      <td>4</td>\n",
       "      <td>302.0</td>\n",
       "      <td>140</td>\n",
       "      <td>3449</td>\n",
       "      <td>NaN</td>\n",
       "      <td>70.0</td>\n",
       "      <td>1</td>\n",
       "      <td>ford torino</td>\n",
       "    </tr>\n",
       "  </tbody>\n",
       "</table>\n",
       "</div>"
      ],
      "text/plain": [
       "    mpg  cylinders  displacement  horsepower  weight  acceleration  year  \\\n",
       "0  18.0          4         307.0         130    3504          12.0  70.0   \n",
       "1  15.0          4         350.0         165    3693          11.5  70.0   \n",
       "2  18.0          4         318.0         150    3436          11.0  70.0   \n",
       "3  16.0          4         304.0         150    3433          12.0  70.0   \n",
       "4  17.0          4         302.0         140    3449           NaN  70.0   \n",
       "\n",
       "  origin                       name  \n",
       "0      1  chevrolet chevelle malibu  \n",
       "1      1          buick skylark 320  \n",
       "2      1         plymouth satellite  \n",
       "3      1              amc rebel sst  \n",
       "4      1                ford torino  "
      ]
     },
     "execution_count": 5,
     "metadata": {},
     "output_type": "execute_result"
    }
   ],
   "source": [
    "# Changing the cylinders column to catagorical (using cat.codes)\n",
    "df.cylinders = df.cylinders.astype('category').cat.codes\n",
    "\n",
    "# Changing the origin column to categorical (without using cat.codes)\n",
    "df.origin = df.origin.astype('category')\n",
    "\n",
    "# Verify our changes with dtypes\n",
    "print(\"\\n\\nTypes of all columns in df after change:\")\n",
    "print(df.dtypes)\n",
    "print(\"\\nHead of our data frame after change:\")\n",
    "df.head()"
   ]
  },
  {
   "cell_type": "markdown",
   "id": "c9e704ac-7b23-495a-b497-ce2808962563",
   "metadata": {},
   "source": [
    "As you can see above, our cylinders column is of type int8 (instead of int64) and our origin column is of type category (instead of int64).\n",
    "\n",
    "#### Process NAs"
   ]
  },
  {
   "cell_type": "code",
   "execution_count": 6,
   "id": "5c10544c-f7ad-40e4-a2f3-2859d637e8e4",
   "metadata": {},
   "outputs": [
    {
     "name": "stdout",
     "output_type": "stream",
     "text": [
      "Dimensions of data frame after drop:  (389, 9)\n"
     ]
    }
   ],
   "source": [
    "# Deleting rows with NAs\n",
    "df = df.dropna()\n",
    "# Outputting the new dimensions\n",
    "print(\"Dimensions of data frame after drop: \", df.shape)"
   ]
  },
  {
   "cell_type": "markdown",
   "id": "4a2456a0-ca70-4808-a542-c96ca02554cd",
   "metadata": {},
   "source": [
    "#### Modifying Columns"
   ]
  },
  {
   "cell_type": "code",
   "execution_count": 7,
   "id": "c3f84f00-6bbc-4085-9bc8-b7a885f54fd6",
   "metadata": {
    "tags": []
   },
   "outputs": [
    {
     "data": {
      "text/html": [
       "<div>\n",
       "<style scoped>\n",
       "    .dataframe tbody tr th:only-of-type {\n",
       "        vertical-align: middle;\n",
       "    }\n",
       "\n",
       "    .dataframe tbody tr th {\n",
       "        vertical-align: top;\n",
       "    }\n",
       "\n",
       "    .dataframe thead th {\n",
       "        text-align: right;\n",
       "    }\n",
       "</style>\n",
       "<table border=\"1\" class=\"dataframe\">\n",
       "  <thead>\n",
       "    <tr style=\"text-align: right;\">\n",
       "      <th></th>\n",
       "      <th>cylinders</th>\n",
       "      <th>displacement</th>\n",
       "      <th>horsepower</th>\n",
       "      <th>weight</th>\n",
       "      <th>acceleration</th>\n",
       "      <th>year</th>\n",
       "      <th>origin</th>\n",
       "      <th>mpg_high</th>\n",
       "    </tr>\n",
       "  </thead>\n",
       "  <tbody>\n",
       "    <tr>\n",
       "      <th>0</th>\n",
       "      <td>4</td>\n",
       "      <td>307.0</td>\n",
       "      <td>130</td>\n",
       "      <td>3504</td>\n",
       "      <td>12.0</td>\n",
       "      <td>70.0</td>\n",
       "      <td>1</td>\n",
       "      <td>0</td>\n",
       "    </tr>\n",
       "    <tr>\n",
       "      <th>1</th>\n",
       "      <td>4</td>\n",
       "      <td>350.0</td>\n",
       "      <td>165</td>\n",
       "      <td>3693</td>\n",
       "      <td>11.5</td>\n",
       "      <td>70.0</td>\n",
       "      <td>1</td>\n",
       "      <td>0</td>\n",
       "    </tr>\n",
       "    <tr>\n",
       "      <th>2</th>\n",
       "      <td>4</td>\n",
       "      <td>318.0</td>\n",
       "      <td>150</td>\n",
       "      <td>3436</td>\n",
       "      <td>11.0</td>\n",
       "      <td>70.0</td>\n",
       "      <td>1</td>\n",
       "      <td>0</td>\n",
       "    </tr>\n",
       "    <tr>\n",
       "      <th>3</th>\n",
       "      <td>4</td>\n",
       "      <td>304.0</td>\n",
       "      <td>150</td>\n",
       "      <td>3433</td>\n",
       "      <td>12.0</td>\n",
       "      <td>70.0</td>\n",
       "      <td>1</td>\n",
       "      <td>0</td>\n",
       "    </tr>\n",
       "    <tr>\n",
       "      <th>6</th>\n",
       "      <td>4</td>\n",
       "      <td>454.0</td>\n",
       "      <td>220</td>\n",
       "      <td>4354</td>\n",
       "      <td>9.0</td>\n",
       "      <td>70.0</td>\n",
       "      <td>1</td>\n",
       "      <td>0</td>\n",
       "    </tr>\n",
       "  </tbody>\n",
       "</table>\n",
       "</div>"
      ],
      "text/plain": [
       "   cylinders  displacement  horsepower  weight  acceleration  year origin  \\\n",
       "0          4         307.0         130    3504          12.0  70.0      1   \n",
       "1          4         350.0         165    3693          11.5  70.0      1   \n",
       "2          4         318.0         150    3436          11.0  70.0      1   \n",
       "3          4         304.0         150    3433          12.0  70.0      1   \n",
       "6          4         454.0         220    4354           9.0  70.0      1   \n",
       "\n",
       "   mpg_high  \n",
       "0         0  \n",
       "1         0  \n",
       "2         0  \n",
       "3         0  \n",
       "6         0  "
      ]
     },
     "execution_count": 7,
     "metadata": {},
     "output_type": "execute_result"
    }
   ],
   "source": [
    "# Creating a new column mpg_high\n",
    "# will be cateorical where:\n",
    "# column == 1 if mpg > avg mpg, else column == 0\n",
    "df['mpg_high'] = df.apply(lambda row: 1 if row['mpg'] > df['mpg'].mean() else 0, axis=1)\n",
    "# Removing the mpg and name columns\n",
    "# (prevents our models from using name and mpg as predictors)\n",
    "df = df.drop(columns=['mpg', 'name'])\n",
    "\n",
    "# Outputting the first few rows of our modified data frame\n",
    "df.head()"
   ]
  },
  {
   "cell_type": "markdown",
   "id": "1958b41e-7be8-460e-8ea9-08e7a81c4391",
   "metadata": {},
   "source": [
    "As you can see above, we no longer have the mpg or name columns and have created a new binary column for mpg_high which will be our new target column.\n",
    "\n",
    "#### Data Exploration with graphs (seaborn)"
   ]
  },
  {
   "cell_type": "code",
   "execution_count": 8,
   "id": "63d4eadf-b61b-40bf-b920-1c69b7c9e756",
   "metadata": {},
   "outputs": [
    {
     "name": "stdout",
     "output_type": "stream",
     "text": [
      "<seaborn.axisgrid.FacetGrid object at 0x000001655B78C370>\n",
      "<seaborn.axisgrid.FacetGrid object at 0x000001655B78E380>\n"
     ]
    },
    {
     "data": {
      "image/png": "[encoded data removed]",
      "text/plain": [
       "<Figure size 500x500 with 1 Axes>"
      ]
     },
     "metadata": {},
     "output_type": "display_data"
    },
    {
     "data": {
      "image/png": "[encoded data removed]",
      "text/plain": [
       "<Figure size 579.611x500 with 1 Axes>"
      ]
     },
     "metadata": {},
     "output_type": "display_data"
    }
   ],
   "source": [
    "# Importing seaborn\n",
    "import seaborn as sb\n",
    "# Importing matplotlib.pyplot to easily show the seaborn graphs\n",
    "import matplotlib.pyplot as plt\n",
    "\n",
    "# Plotting the mpg_high column\n",
    "print(sb.catplot(x='mpg_high', kind='count', data=df))\n",
    "# Replotting with x-axis = horsepower, y-axis = weight,\n",
    "# and setting hue/style to mpg_high (I did both to easily differentiate overlaping observations)\n",
    "print(sb.relplot(x='horsepower', y='weight', data=df, hue=df.mpg_high, style=df.mpg_high))"
   ]
  },
  {
   "cell_type": "code",
   "execution_count": 9,
   "id": "a949774c-f54a-4dc5-a05e-9ec956277554",
   "metadata": {},
   "outputs": [
    {
     "name": "stdout",
     "output_type": "stream",
     "text": [
      "AxesSubplot(0.125,0.11;0.775x0.77)\n"
     ]
    },
    {
     "data": {
      "image/png": "[encoded data removed]",
      "text/plain": [
       "<Figure size 640x480 with 1 Axes>"
      ]
     },
     "metadata": {},
     "output_type": "display_data"
    }
   ],
   "source": [
    "# Plotting a boxplot with x-axis = mpg_high and y-axis = weight\n",
    "# Note: is separated or it will overlap the graph above it!\n",
    "print(sb.boxplot(x='mpg_high', y='weight', data=df, notch=True))"
   ]
  },
  {
   "cell_type": "markdown",
   "id": "1a14d943-2490-4878-bac7-4a51197a1e0c",
   "metadata": {},
   "source": [
    "##### Analyzing our Graphs\n",
    "\n",
    "###### Categorical Plot:\n",
    "\n",
    "From this plot we can observe that our data is very evenly distributed. While there is slightly more cars with a low mpg, the difference between the graphs is only around 25 out of nearly 200 observations for both.\n",
    "\n",
    "###### Relational Plot:\n",
    "\n",
    "From this plot we discovered that all of the mpg_high automobiles must have relatively lower horsepower and weight compared to lower mpg. As you can see in the graph most high mpg observations have a horsepower of 100 or less and a weight of 3000 or less. You can also see that there are exceptions to this rule for lower mpg, supporting the fact that just because horsepower and weight are low doesn't mean necessarily that the mpg will be high. This could make it more difficult for our models to predict, hopefully the other predictors will help clarify! You can also spot quite a few outliers.\n",
    "\n",
    "###### Box Plot:\n",
    "\n",
    "From this plot we can determine that weight is a good predictor with few outliers. You can see a clear distintion between the high and low mpg vehicles based on just their weight and distance in the plot. It also further shows how limited the range is for the high mpg automobiles excluding the outliers. \n",
    "\n",
    "### Splitting our Data for train & test with skLearn"
   ]
  },
  {
   "cell_type": "code",
   "execution_count": 10,
   "id": "c77460a0-ee9b-4883-8b57-93006095d42a",
   "metadata": {},
   "outputs": [
    {
     "name": "stdout",
     "output_type": "stream",
     "text": [
      "Dimensions of train data frame:  (311, 7)\n",
      "Dimensions of train data frame:  (78, 7)\n"
     ]
    }
   ],
   "source": [
    "# Import skLearn's train_test_split\n",
    "from sklearn.model_selection import train_test_split\n",
    "\n",
    "# Splitting by 80/20 for train/test, saved as X_train, X_test...\n",
    "# with seed 1234 for replicable results\n",
    "# Also, setting the X data frames without the target column mpg_high, y contains only the target column\n",
    "X_train, X_test, y_train, y_test = train_test_split(\n",
    "    df[['cylinders', 'displacement', 'horsepower', 'weight', 'acceleration', 'year', 'origin']],\n",
    "    df[['mpg_high']], test_size=0.2, random_state=1234, stratify=df[['mpg_high']])\n",
    "\n",
    "# Outputting the dimensions of train and test\n",
    "print(\"Dimensions of train data frame: \", X_train.shape)\n",
    "print(\"Dimensions of train data frame: \", X_test.shape)"
   ]
  },
  {
   "cell_type": "markdown",
   "id": "66d65397-50ad-4d0d-9aeb-8728ecd2bab8",
   "metadata": {},
   "source": [
    "### Logistic Regression with skLearn"
   ]
  },
  {
   "cell_type": "code",
   "execution_count": 11,
   "id": "9f1a9cfe-1b67-44e7-9864-caf798b9b1f5",
   "metadata": {},
   "outputs": [
    {
     "name": "stdout",
     "output_type": "stream",
     "text": [
      "Accuracy on Training Data:  0.9003215434083601\n",
      "\n",
      "Classification Report on Test Data:\n",
      "              precision    recall  f1-score   support\n",
      "\n",
      "           0       0.86      0.90      0.88        41\n",
      "           1       0.89      0.84      0.86        37\n",
      "\n",
      "    accuracy                           0.87        78\n",
      "   macro avg       0.87      0.87      0.87        78\n",
      "weighted avg       0.87      0.87      0.87        78\n",
      "\n"
     ]
    }
   ],
   "source": [
    "# Import our model from skLearn\n",
    "from sklearn.linear_model import LogisticRegression\n",
    "# Training using solver lbfgs\n",
    "linreg = LogisticRegression(solver='lbfgs', random_state=1234)\n",
    "linreg.fit(X_train, y_train.values.ravel())\n",
    "print(\"Accuracy on Training Data: \", linreg.score(X_train, y_train))\n",
    "\n",
    "# Testing/Evaluating\n",
    "linregpred = linreg.predict(X_test)\n",
    "\n",
    "# Importing the classification report from skLearn\n",
    "from sklearn.metrics import classification_report\n",
    "# Printing the classification report\n",
    "print(\"\\nClassification Report on Test Data:\")\n",
    "print(classification_report(y_test, linregpred))"
   ]
  },
  {
   "cell_type": "markdown",
   "id": "79a5f67f-3284-4a4f-9d6e-08895721ee34",
   "metadata": {},
   "source": [
    "### Decision Tree with skLearn"
   ]
  },
  {
   "cell_type": "code",
   "execution_count": 12,
   "id": "d54b2539-0825-4b65-b18d-df4dc98142e1",
   "metadata": {},
   "outputs": [
    {
     "name": "stdout",
     "output_type": "stream",
     "text": [
      "Accuracy on Training Data:  1.0\n",
      "\n",
      "Classification Report on Test Data:\n",
      "              precision    recall  f1-score   support\n",
      "\n",
      "           0       0.90      0.93      0.92        41\n",
      "           1       0.92      0.89      0.90        37\n",
      "\n",
      "    accuracy                           0.91        78\n",
      "   macro avg       0.91      0.91      0.91        78\n",
      "weighted avg       0.91      0.91      0.91        78\n",
      "\n"
     ]
    },
    {
     "data": {
      "text/plain": [
       "[Text(0.5769230769230769, 0.875, 'X[1] <= 190.5\\ngini = 0.499\\nsamples = 311\\nvalue = [162, 149]'),\n",
       " Text(0.3076923076923077, 0.625, 'X[3] <= 2305.0\\ngini = 0.296\\nsamples = 177\\nvalue = [32, 145]'),\n",
       " Text(0.15384615384615385, 0.375, 'X[0] <= 0.5\\ngini = 0.058\\nsamples = 100\\nvalue = [3, 97]'),\n",
       " Text(0.07692307692307693, 0.125, '\\n  (...)  \\n'),\n",
       " Text(0.23076923076923078, 0.125, '\\n  (...)  \\n'),\n",
       " Text(0.46153846153846156, 0.375, 'X[5] <= 78.5\\ngini = 0.47\\nsamples = 77\\nvalue = [29, 48]'),\n",
       " Text(0.38461538461538464, 0.125, '\\n  (...)  \\n'),\n",
       " Text(0.5384615384615384, 0.125, '\\n  (...)  \\n'),\n",
       " Text(0.8461538461538461, 0.625, 'X[4] <= 21.6\\ngini = 0.058\\nsamples = 134\\nvalue = [130, 4]'),\n",
       " Text(0.7692307692307693, 0.375, 'X[5] <= 80.5\\ngini = 0.044\\nsamples = 133\\nvalue = [130, 3]'),\n",
       " Text(0.6923076923076923, 0.125, '\\n  (...)  \\n'),\n",
       " Text(0.8461538461538461, 0.125, '\\n  (...)  \\n'),\n",
       " Text(0.9230769230769231, 0.375, 'gini = 0.0\\nsamples = 1\\nvalue = [0, 1]')]"
      ]
     },
     "execution_count": 12,
     "metadata": {},
     "output_type": "execute_result"
    },
    {
     "data": {
      "image/png": "[encoded data removed]",
      "text/plain": [
       "<Figure size 640x480 with 1 Axes>"
      ]
     },
     "metadata": {},
     "output_type": "display_data"
    }
   ],
   "source": [
    "# Import our model from skLearn\n",
    "from sklearn.tree import DecisionTreeClassifier\n",
    "\n",
    "# Training our tree\n",
    "tree = DecisionTreeClassifier(random_state=1234)\n",
    "tree.fit(X_train, y_train)\n",
    "print(\"Accuracy on Training Data: \", tree.score(X_train, y_train))\n",
    "\n",
    "# Testing/Evaluating\n",
    "treepred = tree.predict(X_test)\n",
    "\n",
    "# Importing the classification report from skLearn\n",
    "from sklearn.metrics import classification_report\n",
    "# Printing the classification report\n",
    "print(\"\\nClassification Report on Test Data:\")\n",
    "print(classification_report(y_test, treepred))\n",
    "\n",
    "# Importing plot_tree from skLearn\n",
    "from sklearn.tree import plot_tree\n",
    "# Plotting the tree\n",
    "plot_tree(tree, max_depth=2)"
   ]
  },
  {
   "cell_type": "markdown",
   "id": "d4dafb21-ebd7-49c6-a2c1-de774eb5f991",
   "metadata": {},
   "source": [
    "### Neural Network with skLearn"
   ]
  },
  {
   "cell_type": "code",
   "execution_count": 13,
   "id": "59c37b97-3ffe-4319-bbac-776e0e2eeab2",
   "metadata": {},
   "outputs": [
    {
     "name": "stdout",
     "output_type": "stream",
     "text": [
      "Accuracy on Training Data for 1st Neural Network:  0.9807073954983923\n",
      "\n",
      "Classification Report on Test Data for 1st Neural Network:\n",
      "              precision    recall  f1-score   support\n",
      "\n",
      "           0       0.90      0.88      0.89        41\n",
      "           1       0.87      0.89      0.88        37\n",
      "\n",
      "    accuracy                           0.88        78\n",
      "   macro avg       0.88      0.88      0.88        78\n",
      "weighted avg       0.89      0.88      0.88        78\n",
      "\n",
      "Accuracy on Training Data for 2nd Neural Network:  0.932475884244373\n",
      "\n",
      "Classification Report on Test Data for 2nd Neural Network:\n",
      "              precision    recall  f1-score   support\n",
      "\n",
      "           0       0.91      0.95      0.93        41\n",
      "           1       0.94      0.89      0.92        37\n",
      "\n",
      "    accuracy                           0.92        78\n",
      "   macro avg       0.92      0.92      0.92        78\n",
      "weighted avg       0.92      0.92      0.92        78\n",
      "\n"
     ]
    }
   ],
   "source": [
    "# First we need to scale our X data!\n",
    "# Import and create our scaler\n",
    "from sklearn import preprocessing\n",
    "scaler = preprocessing.StandardScaler().fit(X_train)\n",
    "X_train_scaled = scaler.transform(X_train)\n",
    "X_test_scaled = scaler.transform(X_test)\n",
    "\n",
    "# Importing our model from skLearn\n",
    "from sklearn.neural_network import MLPClassifier\n",
    "# Training our neural network, using topology(6,4,1)\n",
    "neunet1 = MLPClassifier(solver='lbfgs', hidden_layer_sizes=(4),\n",
    "                       max_iter=500, random_state=1234)\n",
    "neunet1.fit(X_train_scaled, y_train.values.ravel())\n",
    "print(\"Accuracy on Training Data for 1st Neural Network: \", neunet1.score(X_train_scaled, y_train))\n",
    "\n",
    "# Testing/Evaluating our first network\n",
    "neunet1pred = neunet1.predict(X_test_scaled)\n",
    "\n",
    "# Importing the classification report from skLearn\n",
    "from sklearn.metrics import classification_report\n",
    "# Printing the classification report\n",
    "print(\"\\nClassification Report on Test Data for 1st Neural Network:\")\n",
    "print(classification_report(y_test, neunet1pred))\n",
    "\n",
    "# Training our neural network, using topology(6,2,1)\n",
    "neunet2 = MLPClassifier(solver='lbfgs', hidden_layer_sizes=(2),\n",
    "                       max_iter=500, random_state=1234)\n",
    "neunet2.fit(X_train_scaled, y_train.values.ravel())\n",
    "print(\"Accuracy on Training Data for 2nd Neural Network: \", neunet2.score(X_train_scaled, y_train))\n",
    "\n",
    "# Testing/Evaluating our second network\n",
    "neunet2pred = neunet2.predict(X_test_scaled)\n",
    "\n",
    "# Printing the classification report\n",
    "print(\"\\nClassification Report on Test Data for 2nd Neural Network:\")\n",
    "print(classification_report(y_test, neunet2pred))"
   ]
  },
  {
   "cell_type": "markdown",
   "id": "7d2187de-da11-418a-9ad8-3fea8a5faabb",
   "metadata": {},
   "source": [
    "### Analysis of Results\n",
    "\n",
    "#### Best Overall: Neural Network\n",
    "\n",
    "The Neural Network algorithm outperformed both Logistic Regression and Decision Tree. It was almost a tie with Decision Tree, but nonetheless the Neural Network came out on top. Which is fairly impressive since Neural Networks typically need a lot more data than this small [Auto.csv](Auto.csv) file with only 389 observations after NA removal. I think this shows just how powerful Neural Networks are at predicting if configured optimally.\n",
    "\n",
    "#### Comparison of Metrics\n",
    "\n",
    "To start with, none of these models had poor metrics and all of them were very fast to run. Starting with the Logistic Regression model had an accuracy of 87%, which is a good accuracy score. With percision scores of .86 and .89 which shows that it did a good job of retrieving only relevent items. It had recall scores of .90 and .84 which shows that it did a good job of retrieving nearly all the relevent items.\n",
    "\n",
    "Next, the Decision Tree model had an accuracy of 91%, which is an execellent accuracy score. With percision scores of .90 and .92 which shows that it did a better job of retrieving only relevent items compared to the Logistic Regression Model. It had recall scores of .93 and .89 which shows that it did a better job of retrieving nearly all the relevent items compared to the Logistic Regression Model. Initially I was worried that the decision tree overfit the data because of its 100% accuracy on the training data, it could possibly have a higher accuracy if it was pruned.\n",
    "\n",
    "Finally, the two Neural Network models. Starting with the first, it had an accuracy of 88%, which is a good accuracy score. With percision scores of .90 and .87 which shows that it did a better job of retrieving only relevent items compared to the Logistic Regression Model, but performed worse than the Decision Tree model. It had recall scores of .88 and .89 which shows that it did a better job of retrieving nearly all the relevent items compared to the Logistic Regression Model, but performed worse than the Decision Tree model. I think this is because it overfit the data as seen by its much higher accuracy on the training data. Next, the second Neural Network mode, it had an accuracy of 92%, which is an execellent score. With percision scores of .91 and .94 which shows that it did a better job of retrieving only relevent items compared to the Logistic Regression Model and the Decision Tree model. It had recall scores of .95 and .89 which shows that it did a better job of retrieving nearly all the relevent items compared to the Logistic Regression Model and the Decision Tree model. I think this is because it didn't overfit the data like the first neural network model as seen by its identical accuracy on the training data. This is very impressive that it was able to not overfit too much on such a small dataset.\n",
    "\n",
    "#### Why Neural Network was best?\n",
    "\n",
    "I believe the Neural Network algorithm was best because it is more complex and can create a more rigourous function compared to the simpiler algorithms. Because Logistic regression relies on trying to find an ideal line between the data, it couldn't handle most of the outliers and overlap seen during the data exploration. A simliar problem with the Decision Tree. While it did perform well, if the dataset was larger and more complex the similcity of making splits would likely cause the accuracy to drop. In contrast, the Neural Network seemed to handle the outliers very well by creating a very complex function. If our data set was larger and more complex it would like perform even better. I think this is the main reason why the Neural Network is best, because it doesn't try to predict using an extremely simple method, it has an edge compared to the other algorithms and can handle more complex/non-linear data.\n",
    "\n",
    "#### R vs skLearn\n",
    "\n",
    "Personally, I am much much familiar with python than R. Although I do see the appeal of R in terms of speed for some algorithms and for people comming from a statistics background. The plots are also very easy and well implemented in R compared to python. Also, R has some really good libraries for merging and manipulating columns. But, skLearn gives a very uniform way to implement nearly all algorithms which is very helpful and makes the process easy syntax wise. I also have a better understanding of the python errors and skLearn documentation compared to R."
   ]
  }
 ],
 "metadata": {
  "authors": [
   {
    "name": "Bridgette Bryant"
   }
  ],
  "kernelspec": {
   "display_name": "Python 3 (ipykernel)",
   "language": "python",
   "name": "python3"
  },
  "language_info": {
   "codemirror_mode": {
    "name": "ipython",
    "version": 3
   },
   "file_extension": ".py",
   "mimetype": "text/x-python",
   "name": "python",
   "nbconvert_exporter": "python",
   "pygments_lexer": "ipython3",
   "version": "3.10.8"
  },
  "title": "ML With sklearn"
 },
 "nbformat": 4,
 "nbformat_minor": 5
}
